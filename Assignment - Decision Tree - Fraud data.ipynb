{
 "cells": [
  {
   "cell_type": "code",
   "execution_count": 3,
   "metadata": {},
   "outputs": [],
   "source": [
    "import pandas as pd\n",
    "import numpy as np"
   ]
  },
  {
   "cell_type": "code",
   "execution_count": 4,
   "metadata": {},
   "outputs": [
    {
     "data": {
      "text/html": [
       "<div>\n",
       "<style scoped>\n",
       "    .dataframe tbody tr th:only-of-type {\n",
       "        vertical-align: middle;\n",
       "    }\n",
       "\n",
       "    .dataframe tbody tr th {\n",
       "        vertical-align: top;\n",
       "    }\n",
       "\n",
       "    .dataframe thead th {\n",
       "        text-align: right;\n",
       "    }\n",
       "</style>\n",
       "<table border=\"1\" class=\"dataframe\">\n",
       "  <thead>\n",
       "    <tr style=\"text-align: right;\">\n",
       "      <th></th>\n",
       "      <th>Undergrad</th>\n",
       "      <th>Marital.Status</th>\n",
       "      <th>Taxable.Income</th>\n",
       "      <th>City.Population</th>\n",
       "      <th>Work.Experience</th>\n",
       "      <th>Urban</th>\n",
       "    </tr>\n",
       "  </thead>\n",
       "  <tbody>\n",
       "    <tr>\n",
       "      <th>0</th>\n",
       "      <td>NO</td>\n",
       "      <td>Single</td>\n",
       "      <td>68833</td>\n",
       "      <td>50047</td>\n",
       "      <td>10</td>\n",
       "      <td>YES</td>\n",
       "    </tr>\n",
       "    <tr>\n",
       "      <th>1</th>\n",
       "      <td>YES</td>\n",
       "      <td>Divorced</td>\n",
       "      <td>33700</td>\n",
       "      <td>134075</td>\n",
       "      <td>18</td>\n",
       "      <td>YES</td>\n",
       "    </tr>\n",
       "    <tr>\n",
       "      <th>2</th>\n",
       "      <td>NO</td>\n",
       "      <td>Married</td>\n",
       "      <td>36925</td>\n",
       "      <td>160205</td>\n",
       "      <td>30</td>\n",
       "      <td>YES</td>\n",
       "    </tr>\n",
       "    <tr>\n",
       "      <th>3</th>\n",
       "      <td>YES</td>\n",
       "      <td>Single</td>\n",
       "      <td>50190</td>\n",
       "      <td>193264</td>\n",
       "      <td>15</td>\n",
       "      <td>YES</td>\n",
       "    </tr>\n",
       "    <tr>\n",
       "      <th>4</th>\n",
       "      <td>NO</td>\n",
       "      <td>Married</td>\n",
       "      <td>81002</td>\n",
       "      <td>27533</td>\n",
       "      <td>28</td>\n",
       "      <td>NO</td>\n",
       "    </tr>\n",
       "  </tbody>\n",
       "</table>\n",
       "</div>"
      ],
      "text/plain": [
       "  Undergrad Marital.Status  Taxable.Income  City.Population  Work.Experience  \\\n",
       "0        NO         Single           68833            50047               10   \n",
       "1       YES       Divorced           33700           134075               18   \n",
       "2        NO        Married           36925           160205               30   \n",
       "3       YES         Single           50190           193264               15   \n",
       "4        NO        Married           81002            27533               28   \n",
       "\n",
       "  Urban  \n",
       "0   YES  \n",
       "1   YES  \n",
       "2   YES  \n",
       "3   YES  \n",
       "4    NO  "
      ]
     },
     "execution_count": 4,
     "metadata": {},
     "output_type": "execute_result"
    }
   ],
   "source": [
    "fraud=pd.read_csv(\"Fraud_check.csv\")\n",
    "fraud.head()"
   ]
  },
  {
   "cell_type": "code",
   "execution_count": 5,
   "metadata": {},
   "outputs": [],
   "source": [
    "from sklearn.preprocessing import LabelEncoder\n",
    "label=LabelEncoder()\n"
   ]
  },
  {
   "cell_type": "code",
   "execution_count": 6,
   "metadata": {},
   "outputs": [
    {
     "data": {
      "text/html": [
       "<div>\n",
       "<style scoped>\n",
       "    .dataframe tbody tr th:only-of-type {\n",
       "        vertical-align: middle;\n",
       "    }\n",
       "\n",
       "    .dataframe tbody tr th {\n",
       "        vertical-align: top;\n",
       "    }\n",
       "\n",
       "    .dataframe thead th {\n",
       "        text-align: right;\n",
       "    }\n",
       "</style>\n",
       "<table border=\"1\" class=\"dataframe\">\n",
       "  <thead>\n",
       "    <tr style=\"text-align: right;\">\n",
       "      <th></th>\n",
       "      <th>Undergrad</th>\n",
       "      <th>Marital.Status</th>\n",
       "      <th>Taxable.Income</th>\n",
       "      <th>City.Population</th>\n",
       "      <th>Work.Experience</th>\n",
       "      <th>Urban</th>\n",
       "    </tr>\n",
       "  </thead>\n",
       "  <tbody>\n",
       "    <tr>\n",
       "      <th>0</th>\n",
       "      <td>0</td>\n",
       "      <td>2</td>\n",
       "      <td>68833</td>\n",
       "      <td>50047</td>\n",
       "      <td>10</td>\n",
       "      <td>1</td>\n",
       "    </tr>\n",
       "    <tr>\n",
       "      <th>1</th>\n",
       "      <td>1</td>\n",
       "      <td>0</td>\n",
       "      <td>33700</td>\n",
       "      <td>134075</td>\n",
       "      <td>18</td>\n",
       "      <td>1</td>\n",
       "    </tr>\n",
       "    <tr>\n",
       "      <th>2</th>\n",
       "      <td>0</td>\n",
       "      <td>1</td>\n",
       "      <td>36925</td>\n",
       "      <td>160205</td>\n",
       "      <td>30</td>\n",
       "      <td>1</td>\n",
       "    </tr>\n",
       "    <tr>\n",
       "      <th>3</th>\n",
       "      <td>1</td>\n",
       "      <td>2</td>\n",
       "      <td>50190</td>\n",
       "      <td>193264</td>\n",
       "      <td>15</td>\n",
       "      <td>1</td>\n",
       "    </tr>\n",
       "    <tr>\n",
       "      <th>4</th>\n",
       "      <td>0</td>\n",
       "      <td>1</td>\n",
       "      <td>81002</td>\n",
       "      <td>27533</td>\n",
       "      <td>28</td>\n",
       "      <td>0</td>\n",
       "    </tr>\n",
       "  </tbody>\n",
       "</table>\n",
       "</div>"
      ],
      "text/plain": [
       "   Undergrad  Marital.Status  Taxable.Income  City.Population  \\\n",
       "0          0               2           68833            50047   \n",
       "1          1               0           33700           134075   \n",
       "2          0               1           36925           160205   \n",
       "3          1               2           50190           193264   \n",
       "4          0               1           81002            27533   \n",
       "\n",
       "   Work.Experience  Urban  \n",
       "0               10      1  \n",
       "1               18      1  \n",
       "2               30      1  \n",
       "3               15      1  \n",
       "4               28      0  "
      ]
     },
     "execution_count": 6,
     "metadata": {},
     "output_type": "execute_result"
    }
   ],
   "source": [
    "fraud[\"Undergrad\"]=label.fit_transform(fraud[\"Undergrad\"])\n",
    "fraud[\"Marital.Status\"]=label.fit_transform(fraud[\"Marital.Status\"])\n",
    "fraud[\"Urban\"]=label.fit_transform(fraud[\"Urban\"])\n",
    "fraud.head()"
   ]
  },
  {
   "cell_type": "code",
   "execution_count": 7,
   "metadata": {},
   "outputs": [],
   "source": [
    "# converting people with greater than 30k income as True - 1 and people with <30k income as False - 0\n",
    "\n",
    "\n",
    "fraud[\"Taxable.Income\"]=(fraud[\"Taxable.Income\"]>30000)*1"
   ]
  },
  {
   "cell_type": "code",
   "execution_count": 8,
   "metadata": {},
   "outputs": [
    {
     "data": {
      "text/plain": [
       "0"
      ]
     },
     "execution_count": 8,
     "metadata": {},
     "output_type": "execute_result"
    }
   ],
   "source": [
    "fraud.duplicated().sum()"
   ]
  },
  {
   "cell_type": "code",
   "execution_count": 9,
   "metadata": {},
   "outputs": [
    {
     "data": {
      "text/plain": [
       "0      1\n",
       "1      1\n",
       "2      1\n",
       "3      1\n",
       "4      1\n",
       "      ..\n",
       "595    1\n",
       "596    1\n",
       "597    1\n",
       "598    1\n",
       "599    1\n",
       "Name: Taxable.Income, Length: 600, dtype: int64"
      ]
     },
     "execution_count": 9,
     "metadata": {},
     "output_type": "execute_result"
    }
   ],
   "source": [
    "y=fraud.iloc[:,2]\n",
    "y"
   ]
  },
  {
   "cell_type": "code",
   "execution_count": null,
   "metadata": {},
   "outputs": [],
   "source": []
  },
  {
   "cell_type": "code",
   "execution_count": 10,
   "metadata": {},
   "outputs": [
    {
     "data": {
      "text/html": [
       "<div>\n",
       "<style scoped>\n",
       "    .dataframe tbody tr th:only-of-type {\n",
       "        vertical-align: middle;\n",
       "    }\n",
       "\n",
       "    .dataframe tbody tr th {\n",
       "        vertical-align: top;\n",
       "    }\n",
       "\n",
       "    .dataframe thead th {\n",
       "        text-align: right;\n",
       "    }\n",
       "</style>\n",
       "<table border=\"1\" class=\"dataframe\">\n",
       "  <thead>\n",
       "    <tr style=\"text-align: right;\">\n",
       "      <th></th>\n",
       "      <th>Undergrad</th>\n",
       "      <th>Marital.Status</th>\n",
       "      <th>City.Population</th>\n",
       "      <th>Work.Experience</th>\n",
       "      <th>Urban</th>\n",
       "    </tr>\n",
       "  </thead>\n",
       "  <tbody>\n",
       "    <tr>\n",
       "      <th>0</th>\n",
       "      <td>0</td>\n",
       "      <td>2</td>\n",
       "      <td>50047</td>\n",
       "      <td>10</td>\n",
       "      <td>1</td>\n",
       "    </tr>\n",
       "    <tr>\n",
       "      <th>1</th>\n",
       "      <td>1</td>\n",
       "      <td>0</td>\n",
       "      <td>134075</td>\n",
       "      <td>18</td>\n",
       "      <td>1</td>\n",
       "    </tr>\n",
       "    <tr>\n",
       "      <th>2</th>\n",
       "      <td>0</td>\n",
       "      <td>1</td>\n",
       "      <td>160205</td>\n",
       "      <td>30</td>\n",
       "      <td>1</td>\n",
       "    </tr>\n",
       "    <tr>\n",
       "      <th>3</th>\n",
       "      <td>1</td>\n",
       "      <td>2</td>\n",
       "      <td>193264</td>\n",
       "      <td>15</td>\n",
       "      <td>1</td>\n",
       "    </tr>\n",
       "    <tr>\n",
       "      <th>4</th>\n",
       "      <td>0</td>\n",
       "      <td>1</td>\n",
       "      <td>27533</td>\n",
       "      <td>28</td>\n",
       "      <td>0</td>\n",
       "    </tr>\n",
       "    <tr>\n",
       "      <th>...</th>\n",
       "      <td>...</td>\n",
       "      <td>...</td>\n",
       "      <td>...</td>\n",
       "      <td>...</td>\n",
       "      <td>...</td>\n",
       "    </tr>\n",
       "    <tr>\n",
       "      <th>595</th>\n",
       "      <td>1</td>\n",
       "      <td>0</td>\n",
       "      <td>39492</td>\n",
       "      <td>7</td>\n",
       "      <td>1</td>\n",
       "    </tr>\n",
       "    <tr>\n",
       "      <th>596</th>\n",
       "      <td>1</td>\n",
       "      <td>0</td>\n",
       "      <td>55369</td>\n",
       "      <td>2</td>\n",
       "      <td>1</td>\n",
       "    </tr>\n",
       "    <tr>\n",
       "      <th>597</th>\n",
       "      <td>0</td>\n",
       "      <td>0</td>\n",
       "      <td>154058</td>\n",
       "      <td>0</td>\n",
       "      <td>1</td>\n",
       "    </tr>\n",
       "    <tr>\n",
       "      <th>598</th>\n",
       "      <td>1</td>\n",
       "      <td>1</td>\n",
       "      <td>180083</td>\n",
       "      <td>17</td>\n",
       "      <td>0</td>\n",
       "    </tr>\n",
       "    <tr>\n",
       "      <th>599</th>\n",
       "      <td>0</td>\n",
       "      <td>0</td>\n",
       "      <td>158137</td>\n",
       "      <td>16</td>\n",
       "      <td>0</td>\n",
       "    </tr>\n",
       "  </tbody>\n",
       "</table>\n",
       "<p>600 rows × 5 columns</p>\n",
       "</div>"
      ],
      "text/plain": [
       "     Undergrad  Marital.Status  City.Population  Work.Experience  Urban\n",
       "0            0               2            50047               10      1\n",
       "1            1               0           134075               18      1\n",
       "2            0               1           160205               30      1\n",
       "3            1               2           193264               15      1\n",
       "4            0               1            27533               28      0\n",
       "..         ...             ...              ...              ...    ...\n",
       "595          1               0            39492                7      1\n",
       "596          1               0            55369                2      1\n",
       "597          0               0           154058                0      1\n",
       "598          1               1           180083               17      0\n",
       "599          0               0           158137               16      0\n",
       "\n",
       "[600 rows x 5 columns]"
      ]
     },
     "execution_count": 10,
     "metadata": {},
     "output_type": "execute_result"
    }
   ],
   "source": [
    "x=fraud.drop(columns='Taxable.Income',axis=1)\n",
    "x"
   ]
  },
  {
   "cell_type": "code",
   "execution_count": 61,
   "metadata": {},
   "outputs": [
    {
     "data": {
      "text/plain": [
       "((420, 5), (420,))"
      ]
     },
     "execution_count": 61,
     "metadata": {},
     "output_type": "execute_result"
    }
   ],
   "source": [
    "from sklearn.model_selection import train_test_split\n",
    "x_train,x_test,y_train,y_test=train_test_split(x,y,test_size=0.3,random_state=2)\n",
    "x_train.shape,y_train.shape"
   ]
  },
  {
   "cell_type": "code",
   "execution_count": 62,
   "metadata": {},
   "outputs": [
    {
     "data": {
      "text/plain": [
       "DecisionTreeClassifier(criterion='entropy', max_depth=2)"
      ]
     },
     "execution_count": 62,
     "metadata": {},
     "output_type": "execute_result"
    }
   ],
   "source": [
    "from sklearn.tree import DecisionTreeClassifier\n",
    "model_1=DecisionTreeClassifier(criterion='entropy',max_depth=2)\n",
    "model_1.fit(x_train,y_train)"
   ]
  },
  {
   "cell_type": "code",
   "execution_count": 63,
   "metadata": {},
   "outputs": [],
   "source": [
    "from sklearn import tree\n",
    "import matplotlib.pyplot as plt"
   ]
  },
  {
   "cell_type": "code",
   "execution_count": 64,
   "metadata": {},
   "outputs": [
    {
     "data": {
      "image/png": "[encoded data removed]",
      "text/plain": [
       "<Figure size 360x432 with 1 Axes>"
      ]
     },
     "metadata": {
      "needs_background": "light"
     },
     "output_type": "display_data"
    }
   ],
   "source": [
    "plt.figure(figsize=(5,6))\n",
    "tree.plot_tree(model_1);"
   ]
  },
  {
   "cell_type": "code",
   "execution_count": 65,
   "metadata": {},
   "outputs": [
    {
     "data": {
      "text/plain": [
       "[Text(465.0, 755.0, 'Taxable.Income <= 191506.5\\nentropy = 0.731\\nsamples = 420\\nvalue = [86, 334]\\nclass = NO'),\n",
       " Text(232.5, 453.0, 'City_Population <= 6.5\\nentropy = 0.712\\nsamples = 395\\nvalue = [77, 318]\\nclass = NO'),\n",
       " Text(116.25, 151.0, 'entropy = 0.513\\nsamples = 70\\nvalue = [8, 62]\\nclass = NO'),\n",
       " Text(348.75, 151.0, 'entropy = 0.746\\nsamples = 325\\nvalue = [69, 256]\\nclass = NO'),\n",
       " Text(697.5, 453.0, 'Taxable.Income <= 192727.0\\nentropy = 0.943\\nsamples = 25\\nvalue = [9, 16]\\nclass = NO'),\n",
       " Text(581.25, 151.0, 'entropy = 0.811\\nsamples = 4\\nvalue = [3, 1]\\nclass = YES'),\n",
       " Text(813.75, 151.0, 'entropy = 0.863\\nsamples = 21\\nvalue = [6, 15]\\nclass = NO')]"
      ]
     },
     "execution_count": 65,
     "metadata": {},
     "output_type": "execute_result"
    },
    {
     "data": {
      "image/png": "[encoded data removed]",
      "text/plain": [
       "<Figure size 1200x1200 with 1 Axes>"
      ]
     },
     "metadata": {
      "needs_background": "light"
     },
     "output_type": "display_data"
    }
   ],
   "source": [
    "ind_var=['Undergrad', 'Marital.Status', 'Taxable.Income', 'City_Population', 'Work_Experience']\n",
    "dep_var=['YES','NO']\n",
    "fig,axes=plt.subplots(nrows=1,ncols=1,figsize=(3,3),dpi=400)\n",
    "tree.plot_tree(model_1,feature_names=ind_var,class_names=dep_var,filled=True)"
   ]
  },
  {
   "cell_type": "code",
   "execution_count": 66,
   "metadata": {},
   "outputs": [
    {
     "data": {
      "text/plain": [
       "0.8"
      ]
     },
     "execution_count": 66,
     "metadata": {},
     "output_type": "execute_result"
    }
   ],
   "source": [
    "model_1.score(x_train,y_train)"
   ]
  },
  {
   "cell_type": "code",
   "execution_count": 67,
   "metadata": {},
   "outputs": [
    {
     "data": {
      "text/plain": [
       "0.7777777777777778"
      ]
     },
     "execution_count": 67,
     "metadata": {},
     "output_type": "execute_result"
    }
   ],
   "source": [
    "model_1.score(x_test,y_test)"
   ]
  },
  {
   "cell_type": "code",
   "execution_count": 68,
   "metadata": {},
   "outputs": [
    {
     "data": {
      "text/plain": [
       "array([1, 1, 1, 1, 1, 1, 1, 1, 1, 1, 1, 1, 1, 1, 1, 1, 1, 1, 1, 1, 1, 1,\n",
       "       1, 1, 1, 1, 1, 1, 1, 1, 1, 1, 1, 1, 0, 1, 1, 1, 1, 1, 1, 1, 1, 1,\n",
       "       1, 1, 1, 1, 1, 1, 1, 1, 1, 1, 1, 1, 1, 1, 1, 1, 1, 1, 1, 1, 1, 1,\n",
       "       1, 1, 1, 1, 1, 1, 1, 1, 1, 1, 1, 1, 1, 1, 1, 1, 1, 1, 1, 1, 1, 1,\n",
       "       1, 1, 1, 1, 1, 1, 1, 1, 1, 1, 1, 1, 1, 1, 1, 1, 1, 1, 1, 1, 1, 1,\n",
       "       0, 1, 1, 1, 1, 1, 1, 1, 1, 1, 1, 1, 1, 1, 1, 1, 1, 1, 1, 1, 1, 1,\n",
       "       1, 1, 1, 1, 1, 1, 1, 1, 1, 1, 1, 1, 1, 1, 1, 1, 1, 1, 1, 1, 1, 1,\n",
       "       1, 1, 1, 1, 1, 1, 1, 1, 1, 1, 1, 1, 1, 1, 1, 1, 1, 1, 1, 1, 1, 1,\n",
       "       1, 1, 1, 1])"
      ]
     },
     "execution_count": 68,
     "metadata": {},
     "output_type": "execute_result"
    }
   ],
   "source": [
    "pred_1=model_1.predict(x_test)\n",
    "pred_1"
   ]
  },
  {
   "cell_type": "code",
   "execution_count": 69,
   "metadata": {},
   "outputs": [
    {
     "data": {
      "text/plain": [
       "array([[0.21230769, 0.78769231],\n",
       "       [0.28571429, 0.71428571],\n",
       "       [0.21230769, 0.78769231],\n",
       "       [0.21230769, 0.78769231],\n",
       "       [0.21230769, 0.78769231],\n",
       "       [0.21230769, 0.78769231],\n",
       "       [0.11428571, 0.88571429],\n",
       "       [0.21230769, 0.78769231],\n",
       "       [0.21230769, 0.78769231],\n",
       "       [0.21230769, 0.78769231],\n",
       "       [0.21230769, 0.78769231],\n",
       "       [0.21230769, 0.78769231],\n",
       "       [0.21230769, 0.78769231],\n",
       "       [0.28571429, 0.71428571],\n",
       "       [0.21230769, 0.78769231],\n",
       "       [0.11428571, 0.88571429],\n",
       "       [0.21230769, 0.78769231],\n",
       "       [0.21230769, 0.78769231],\n",
       "       [0.21230769, 0.78769231],\n",
       "       [0.11428571, 0.88571429],\n",
       "       [0.11428571, 0.88571429],\n",
       "       [0.11428571, 0.88571429],\n",
       "       [0.21230769, 0.78769231],\n",
       "       [0.21230769, 0.78769231],\n",
       "       [0.21230769, 0.78769231],\n",
       "       [0.21230769, 0.78769231],\n",
       "       [0.21230769, 0.78769231],\n",
       "       [0.21230769, 0.78769231],\n",
       "       [0.21230769, 0.78769231],\n",
       "       [0.21230769, 0.78769231],\n",
       "       [0.21230769, 0.78769231],\n",
       "       [0.21230769, 0.78769231],\n",
       "       [0.21230769, 0.78769231],\n",
       "       [0.21230769, 0.78769231],\n",
       "       [0.75      , 0.25      ],\n",
       "       [0.21230769, 0.78769231],\n",
       "       [0.21230769, 0.78769231],\n",
       "       [0.21230769, 0.78769231],\n",
       "       [0.21230769, 0.78769231],\n",
       "       [0.21230769, 0.78769231],\n",
       "       [0.21230769, 0.78769231],\n",
       "       [0.21230769, 0.78769231],\n",
       "       [0.21230769, 0.78769231],\n",
       "       [0.21230769, 0.78769231],\n",
       "       [0.21230769, 0.78769231],\n",
       "       [0.21230769, 0.78769231],\n",
       "       [0.11428571, 0.88571429],\n",
       "       [0.11428571, 0.88571429],\n",
       "       [0.21230769, 0.78769231],\n",
       "       [0.21230769, 0.78769231],\n",
       "       [0.21230769, 0.78769231],\n",
       "       [0.11428571, 0.88571429],\n",
       "       [0.21230769, 0.78769231],\n",
       "       [0.21230769, 0.78769231],\n",
       "       [0.21230769, 0.78769231],\n",
       "       [0.21230769, 0.78769231],\n",
       "       [0.21230769, 0.78769231],\n",
       "       [0.21230769, 0.78769231],\n",
       "       [0.28571429, 0.71428571],\n",
       "       [0.21230769, 0.78769231],\n",
       "       [0.21230769, 0.78769231],\n",
       "       [0.11428571, 0.88571429],\n",
       "       [0.21230769, 0.78769231],\n",
       "       [0.21230769, 0.78769231],\n",
       "       [0.11428571, 0.88571429],\n",
       "       [0.21230769, 0.78769231],\n",
       "       [0.11428571, 0.88571429],\n",
       "       [0.11428571, 0.88571429],\n",
       "       [0.11428571, 0.88571429],\n",
       "       [0.21230769, 0.78769231],\n",
       "       [0.21230769, 0.78769231],\n",
       "       [0.21230769, 0.78769231],\n",
       "       [0.11428571, 0.88571429],\n",
       "       [0.21230769, 0.78769231],\n",
       "       [0.11428571, 0.88571429],\n",
       "       [0.21230769, 0.78769231],\n",
       "       [0.11428571, 0.88571429],\n",
       "       [0.11428571, 0.88571429],\n",
       "       [0.21230769, 0.78769231],\n",
       "       [0.21230769, 0.78769231],\n",
       "       [0.21230769, 0.78769231],\n",
       "       [0.21230769, 0.78769231],\n",
       "       [0.11428571, 0.88571429],\n",
       "       [0.11428571, 0.88571429],\n",
       "       [0.21230769, 0.78769231],\n",
       "       [0.21230769, 0.78769231],\n",
       "       [0.11428571, 0.88571429],\n",
       "       [0.21230769, 0.78769231],\n",
       "       [0.28571429, 0.71428571],\n",
       "       [0.21230769, 0.78769231],\n",
       "       [0.21230769, 0.78769231],\n",
       "       [0.21230769, 0.78769231],\n",
       "       [0.21230769, 0.78769231],\n",
       "       [0.21230769, 0.78769231],\n",
       "       [0.11428571, 0.88571429],\n",
       "       [0.21230769, 0.78769231],\n",
       "       [0.21230769, 0.78769231],\n",
       "       [0.11428571, 0.88571429],\n",
       "       [0.21230769, 0.78769231],\n",
       "       [0.21230769, 0.78769231],\n",
       "       [0.21230769, 0.78769231],\n",
       "       [0.21230769, 0.78769231],\n",
       "       [0.21230769, 0.78769231],\n",
       "       [0.21230769, 0.78769231],\n",
       "       [0.21230769, 0.78769231],\n",
       "       [0.21230769, 0.78769231],\n",
       "       [0.21230769, 0.78769231],\n",
       "       [0.21230769, 0.78769231],\n",
       "       [0.28571429, 0.71428571],\n",
       "       [0.21230769, 0.78769231],\n",
       "       [0.75      , 0.25      ],\n",
       "       [0.21230769, 0.78769231],\n",
       "       [0.21230769, 0.78769231],\n",
       "       [0.21230769, 0.78769231],\n",
       "       [0.11428571, 0.88571429],\n",
       "       [0.21230769, 0.78769231],\n",
       "       [0.21230769, 0.78769231],\n",
       "       [0.11428571, 0.88571429],\n",
       "       [0.21230769, 0.78769231],\n",
       "       [0.21230769, 0.78769231],\n",
       "       [0.21230769, 0.78769231],\n",
       "       [0.11428571, 0.88571429],\n",
       "       [0.21230769, 0.78769231],\n",
       "       [0.21230769, 0.78769231],\n",
       "       [0.21230769, 0.78769231],\n",
       "       [0.21230769, 0.78769231],\n",
       "       [0.21230769, 0.78769231],\n",
       "       [0.11428571, 0.88571429],\n",
       "       [0.11428571, 0.88571429],\n",
       "       [0.21230769, 0.78769231],\n",
       "       [0.21230769, 0.78769231],\n",
       "       [0.21230769, 0.78769231],\n",
       "       [0.21230769, 0.78769231],\n",
       "       [0.21230769, 0.78769231],\n",
       "       [0.21230769, 0.78769231],\n",
       "       [0.11428571, 0.88571429],\n",
       "       [0.11428571, 0.88571429],\n",
       "       [0.21230769, 0.78769231],\n",
       "       [0.21230769, 0.78769231],\n",
       "       [0.21230769, 0.78769231],\n",
       "       [0.11428571, 0.88571429],\n",
       "       [0.21230769, 0.78769231],\n",
       "       [0.11428571, 0.88571429],\n",
       "       [0.21230769, 0.78769231],\n",
       "       [0.21230769, 0.78769231],\n",
       "       [0.28571429, 0.71428571],\n",
       "       [0.28571429, 0.71428571],\n",
       "       [0.21230769, 0.78769231],\n",
       "       [0.21230769, 0.78769231],\n",
       "       [0.21230769, 0.78769231],\n",
       "       [0.11428571, 0.88571429],\n",
       "       [0.21230769, 0.78769231],\n",
       "       [0.21230769, 0.78769231],\n",
       "       [0.21230769, 0.78769231],\n",
       "       [0.21230769, 0.78769231],\n",
       "       [0.11428571, 0.88571429],\n",
       "       [0.11428571, 0.88571429],\n",
       "       [0.21230769, 0.78769231],\n",
       "       [0.11428571, 0.88571429],\n",
       "       [0.21230769, 0.78769231],\n",
       "       [0.21230769, 0.78769231],\n",
       "       [0.11428571, 0.88571429],\n",
       "       [0.21230769, 0.78769231],\n",
       "       [0.11428571, 0.88571429],\n",
       "       [0.21230769, 0.78769231],\n",
       "       [0.21230769, 0.78769231],\n",
       "       [0.21230769, 0.78769231],\n",
       "       [0.21230769, 0.78769231],\n",
       "       [0.21230769, 0.78769231],\n",
       "       [0.11428571, 0.88571429],\n",
       "       [0.11428571, 0.88571429],\n",
       "       [0.21230769, 0.78769231],\n",
       "       [0.21230769, 0.78769231],\n",
       "       [0.11428571, 0.88571429],\n",
       "       [0.21230769, 0.78769231],\n",
       "       [0.21230769, 0.78769231],\n",
       "       [0.21230769, 0.78769231],\n",
       "       [0.21230769, 0.78769231],\n",
       "       [0.21230769, 0.78769231],\n",
       "       [0.21230769, 0.78769231]])"
      ]
     },
     "execution_count": 69,
     "metadata": {},
     "output_type": "execute_result"
    }
   ],
   "source": [
    "#predicting the probabilities\n",
    "model_1.predict_proba(x_test)"
   ]
  },
  {
   "cell_type": "code",
   "execution_count": 80,
   "metadata": {},
   "outputs": [
    {
     "data": {
      "text/plain": [
       "array([[  0,  38],\n",
       "       [  2, 140]])"
      ]
     },
     "execution_count": 80,
     "metadata": {},
     "output_type": "execute_result"
    }
   ],
   "source": [
    "from sklearn.metrics import classification_report,confusion_matrix\n",
    "cm=confusion_matrix(y_test,pred_1)\n",
    "cm"
   ]
  },
  {
   "cell_type": "code",
   "execution_count": 75,
   "metadata": {},
   "outputs": [
    {
     "name": "stdout",
     "output_type": "stream",
     "text": [
      "              precision    recall  f1-score   support\n",
      "\n",
      "           0       0.00      0.00      0.00        38\n",
      "           1       0.79      0.99      0.87       142\n",
      "\n",
      "    accuracy                           0.78       180\n",
      "   macro avg       0.39      0.49      0.44       180\n",
      "weighted avg       0.62      0.78      0.69       180\n",
      "\n"
     ]
    }
   ],
   "source": [
    "print(classification_report(y_test,pred_1))"
   ]
  },
  {
   "cell_type": "code",
   "execution_count": 87,
   "metadata": {},
   "outputs": [
    {
     "data": {
      "text/plain": [
       "Text(0.5, 1.0, 'Accuracy score0.7777777777777778')"
      ]
     },
     "execution_count": 87,
     "metadata": {},
     "output_type": "execute_result"
    },
    {
     "data": {
      "image/png": "[encoded data removed]",
      "text/plain": [
       "<Figure size 504x504 with 2 Axes>"
      ]
     },
     "metadata": {
      "needs_background": "light"
     },
     "output_type": "display_data"
    }
   ],
   "source": [
    "import seaborn as sns\n",
    "plt.figure(figsize=(7,7))\n",
    "sns.heatmap(data=cm,linewidths=.5,annot=True,square=True,cmap='Blues')\n",
    "plt.ylabel(\"Actual label\")\n",
    "plt.xlabel(\"Predicted label\")\n",
    "heading='Accuracy score{0}'.format(model_1.score(x_test,y_test))\n",
    "plt.title(heading,size=13)"
   ]
  },
  {
   "cell_type": "code",
   "execution_count": null,
   "metadata": {},
   "outputs": [],
   "source": []
  },
  {
   "cell_type": "code",
   "execution_count": 22,
   "metadata": {},
   "outputs": [
    {
     "data": {
      "text/plain": [
       "DecisionTreeClassifier(max_depth=2)"
      ]
     },
     "execution_count": 22,
     "metadata": {},
     "output_type": "execute_result"
    }
   ],
   "source": [
    "model_2=DecisionTreeClassifier(criterion='gini',max_depth=2)\n",
    "model_2.fit(x_train,y_train)"
   ]
  },
  {
   "cell_type": "code",
   "execution_count": 23,
   "metadata": {},
   "outputs": [
    {
     "data": {
      "text/plain": [
       "array([1, 1, 1, 1, 1, 1, 1, 1, 1, 1, 1, 1, 1, 1, 1, 1, 1, 1, 1, 1, 1, 1,\n",
       "       1, 1, 1, 1, 1, 1, 1, 1, 1, 1, 1, 1, 0, 1, 1, 1, 1, 1, 1, 1, 1, 1,\n",
       "       1, 1, 1, 1, 1, 1, 1, 1, 1, 1, 1, 1, 1, 1, 1, 1, 1, 1, 1, 1, 1, 1,\n",
       "       1, 1, 1, 1, 1, 1, 1, 1, 1, 1, 1, 1, 1, 1, 1, 1, 1, 1, 1, 1, 1, 1,\n",
       "       1, 1, 1, 1, 1, 1, 1, 1, 1, 1, 1, 1, 1, 1, 1, 1, 1, 1, 1, 1, 1, 1,\n",
       "       0, 1, 1, 1, 1, 1, 1, 1, 1, 1, 1, 1, 1, 1, 1, 1, 1, 1, 1, 1, 1, 1,\n",
       "       1, 1, 1, 1, 1, 1, 1, 1, 1, 1, 1, 1, 1, 1, 1, 1, 1, 1, 1, 1, 1, 1,\n",
       "       1, 1, 1, 1, 1, 1, 1, 1, 1, 1, 1, 1, 1, 1, 1, 1, 1, 1, 1, 1, 1, 1,\n",
       "       1, 1, 1, 1])"
      ]
     },
     "execution_count": 23,
     "metadata": {},
     "output_type": "execute_result"
    }
   ],
   "source": [
    "model_2\n",
    "pred_2=model_2.predict(x_test)\n",
    "pred_2"
   ]
  },
  {
   "cell_type": "code",
   "execution_count": 24,
   "metadata": {},
   "outputs": [
    {
     "data": {
      "text/plain": [
       "array([[  0,  38],\n",
       "       [  2, 140]])"
      ]
     },
     "execution_count": 24,
     "metadata": {},
     "output_type": "execute_result"
    }
   ],
   "source": [
    "confusion_matrix(y_test,pred_2)"
   ]
  },
  {
   "cell_type": "code",
   "execution_count": 25,
   "metadata": {},
   "outputs": [
    {
     "data": {
      "text/plain": [
       "array([[0.21230769, 0.78769231],\n",
       "       [0.28571429, 0.71428571],\n",
       "       [0.21230769, 0.78769231],\n",
       "       [0.21230769, 0.78769231],\n",
       "       [0.21230769, 0.78769231],\n",
       "       [0.21230769, 0.78769231],\n",
       "       [0.11428571, 0.88571429],\n",
       "       [0.21230769, 0.78769231],\n",
       "       [0.21230769, 0.78769231],\n",
       "       [0.21230769, 0.78769231],\n",
       "       [0.21230769, 0.78769231],\n",
       "       [0.21230769, 0.78769231],\n",
       "       [0.21230769, 0.78769231],\n",
       "       [0.28571429, 0.71428571],\n",
       "       [0.21230769, 0.78769231],\n",
       "       [0.11428571, 0.88571429],\n",
       "       [0.21230769, 0.78769231],\n",
       "       [0.21230769, 0.78769231],\n",
       "       [0.21230769, 0.78769231],\n",
       "       [0.11428571, 0.88571429],\n",
       "       [0.11428571, 0.88571429],\n",
       "       [0.11428571, 0.88571429],\n",
       "       [0.21230769, 0.78769231],\n",
       "       [0.21230769, 0.78769231],\n",
       "       [0.21230769, 0.78769231],\n",
       "       [0.21230769, 0.78769231],\n",
       "       [0.21230769, 0.78769231],\n",
       "       [0.21230769, 0.78769231],\n",
       "       [0.21230769, 0.78769231],\n",
       "       [0.21230769, 0.78769231],\n",
       "       [0.21230769, 0.78769231],\n",
       "       [0.21230769, 0.78769231],\n",
       "       [0.21230769, 0.78769231],\n",
       "       [0.21230769, 0.78769231],\n",
       "       [0.75      , 0.25      ],\n",
       "       [0.21230769, 0.78769231],\n",
       "       [0.21230769, 0.78769231],\n",
       "       [0.21230769, 0.78769231],\n",
       "       [0.21230769, 0.78769231],\n",
       "       [0.21230769, 0.78769231],\n",
       "       [0.21230769, 0.78769231],\n",
       "       [0.21230769, 0.78769231],\n",
       "       [0.21230769, 0.78769231],\n",
       "       [0.21230769, 0.78769231],\n",
       "       [0.21230769, 0.78769231],\n",
       "       [0.21230769, 0.78769231],\n",
       "       [0.11428571, 0.88571429],\n",
       "       [0.11428571, 0.88571429],\n",
       "       [0.21230769, 0.78769231],\n",
       "       [0.21230769, 0.78769231],\n",
       "       [0.21230769, 0.78769231],\n",
       "       [0.11428571, 0.88571429],\n",
       "       [0.21230769, 0.78769231],\n",
       "       [0.21230769, 0.78769231],\n",
       "       [0.21230769, 0.78769231],\n",
       "       [0.21230769, 0.78769231],\n",
       "       [0.21230769, 0.78769231],\n",
       "       [0.21230769, 0.78769231],\n",
       "       [0.28571429, 0.71428571],\n",
       "       [0.21230769, 0.78769231],\n",
       "       [0.21230769, 0.78769231],\n",
       "       [0.11428571, 0.88571429],\n",
       "       [0.21230769, 0.78769231],\n",
       "       [0.21230769, 0.78769231],\n",
       "       [0.11428571, 0.88571429],\n",
       "       [0.21230769, 0.78769231],\n",
       "       [0.11428571, 0.88571429],\n",
       "       [0.11428571, 0.88571429],\n",
       "       [0.11428571, 0.88571429],\n",
       "       [0.21230769, 0.78769231],\n",
       "       [0.21230769, 0.78769231],\n",
       "       [0.21230769, 0.78769231],\n",
       "       [0.11428571, 0.88571429],\n",
       "       [0.21230769, 0.78769231],\n",
       "       [0.11428571, 0.88571429],\n",
       "       [0.21230769, 0.78769231],\n",
       "       [0.11428571, 0.88571429],\n",
       "       [0.11428571, 0.88571429],\n",
       "       [0.21230769, 0.78769231],\n",
       "       [0.21230769, 0.78769231],\n",
       "       [0.21230769, 0.78769231],\n",
       "       [0.21230769, 0.78769231],\n",
       "       [0.11428571, 0.88571429],\n",
       "       [0.11428571, 0.88571429],\n",
       "       [0.21230769, 0.78769231],\n",
       "       [0.21230769, 0.78769231],\n",
       "       [0.11428571, 0.88571429],\n",
       "       [0.21230769, 0.78769231],\n",
       "       [0.28571429, 0.71428571],\n",
       "       [0.21230769, 0.78769231],\n",
       "       [0.21230769, 0.78769231],\n",
       "       [0.21230769, 0.78769231],\n",
       "       [0.21230769, 0.78769231],\n",
       "       [0.21230769, 0.78769231],\n",
       "       [0.11428571, 0.88571429],\n",
       "       [0.21230769, 0.78769231],\n",
       "       [0.21230769, 0.78769231],\n",
       "       [0.11428571, 0.88571429],\n",
       "       [0.21230769, 0.78769231],\n",
       "       [0.21230769, 0.78769231],\n",
       "       [0.21230769, 0.78769231],\n",
       "       [0.21230769, 0.78769231],\n",
       "       [0.21230769, 0.78769231],\n",
       "       [0.21230769, 0.78769231],\n",
       "       [0.21230769, 0.78769231],\n",
       "       [0.21230769, 0.78769231],\n",
       "       [0.21230769, 0.78769231],\n",
       "       [0.21230769, 0.78769231],\n",
       "       [0.28571429, 0.71428571],\n",
       "       [0.21230769, 0.78769231],\n",
       "       [0.75      , 0.25      ],\n",
       "       [0.21230769, 0.78769231],\n",
       "       [0.21230769, 0.78769231],\n",
       "       [0.21230769, 0.78769231],\n",
       "       [0.11428571, 0.88571429],\n",
       "       [0.21230769, 0.78769231],\n",
       "       [0.21230769, 0.78769231],\n",
       "       [0.11428571, 0.88571429],\n",
       "       [0.21230769, 0.78769231],\n",
       "       [0.21230769, 0.78769231],\n",
       "       [0.21230769, 0.78769231],\n",
       "       [0.11428571, 0.88571429],\n",
       "       [0.21230769, 0.78769231],\n",
       "       [0.21230769, 0.78769231],\n",
       "       [0.21230769, 0.78769231],\n",
       "       [0.21230769, 0.78769231],\n",
       "       [0.21230769, 0.78769231],\n",
       "       [0.11428571, 0.88571429],\n",
       "       [0.11428571, 0.88571429],\n",
       "       [0.21230769, 0.78769231],\n",
       "       [0.21230769, 0.78769231],\n",
       "       [0.21230769, 0.78769231],\n",
       "       [0.21230769, 0.78769231],\n",
       "       [0.21230769, 0.78769231],\n",
       "       [0.21230769, 0.78769231],\n",
       "       [0.11428571, 0.88571429],\n",
       "       [0.11428571, 0.88571429],\n",
       "       [0.21230769, 0.78769231],\n",
       "       [0.21230769, 0.78769231],\n",
       "       [0.21230769, 0.78769231],\n",
       "       [0.11428571, 0.88571429],\n",
       "       [0.21230769, 0.78769231],\n",
       "       [0.11428571, 0.88571429],\n",
       "       [0.21230769, 0.78769231],\n",
       "       [0.21230769, 0.78769231],\n",
       "       [0.28571429, 0.71428571],\n",
       "       [0.28571429, 0.71428571],\n",
       "       [0.21230769, 0.78769231],\n",
       "       [0.21230769, 0.78769231],\n",
       "       [0.21230769, 0.78769231],\n",
       "       [0.11428571, 0.88571429],\n",
       "       [0.21230769, 0.78769231],\n",
       "       [0.21230769, 0.78769231],\n",
       "       [0.21230769, 0.78769231],\n",
       "       [0.21230769, 0.78769231],\n",
       "       [0.11428571, 0.88571429],\n",
       "       [0.11428571, 0.88571429],\n",
       "       [0.21230769, 0.78769231],\n",
       "       [0.11428571, 0.88571429],\n",
       "       [0.21230769, 0.78769231],\n",
       "       [0.21230769, 0.78769231],\n",
       "       [0.11428571, 0.88571429],\n",
       "       [0.21230769, 0.78769231],\n",
       "       [0.11428571, 0.88571429],\n",
       "       [0.21230769, 0.78769231],\n",
       "       [0.21230769, 0.78769231],\n",
       "       [0.21230769, 0.78769231],\n",
       "       [0.21230769, 0.78769231],\n",
       "       [0.21230769, 0.78769231],\n",
       "       [0.11428571, 0.88571429],\n",
       "       [0.11428571, 0.88571429],\n",
       "       [0.21230769, 0.78769231],\n",
       "       [0.21230769, 0.78769231],\n",
       "       [0.11428571, 0.88571429],\n",
       "       [0.21230769, 0.78769231],\n",
       "       [0.21230769, 0.78769231],\n",
       "       [0.21230769, 0.78769231],\n",
       "       [0.21230769, 0.78769231],\n",
       "       [0.21230769, 0.78769231],\n",
       "       [0.21230769, 0.78769231]])"
      ]
     },
     "execution_count": 25,
     "metadata": {},
     "output_type": "execute_result"
    }
   ],
   "source": [
    "model_2.predict_proba(x_test)"
   ]
  },
  {
   "cell_type": "code",
   "execution_count": null,
   "metadata": {},
   "outputs": [],
   "source": []
  },
  {
   "cell_type": "code",
   "execution_count": 26,
   "metadata": {},
   "outputs": [],
   "source": [
    "#grid search cv\n",
    "from sklearn.model_selection import GridSearchCV\n"
   ]
  },
  {
   "cell_type": "code",
   "execution_count": 34,
   "metadata": {},
   "outputs": [
    {
     "data": {
      "text/plain": [
       "{'type': ['entropy', 'gini'],\n",
       " 'entropy': [10, 14, 19, 20, 9, 3, 2, 1],\n",
       " 'gini': [1, 2, 3, 4, 5, 10, 13, 15, 18]}"
      ]
     },
     "execution_count": 34,
     "metadata": {},
     "output_type": "execute_result"
    }
   ],
   "source": [
    "entropy=[10,14,19,20]\n",
    "parameters=dict(values=entropy)\n",
    "parameters\n",
    "temp={'type':['entropy','gini'],\n",
    "     'entropy':[10,14,19,20,9,3,2,1],\n",
    "     'gini':[1,2,3,4,5,10,13,15,18]}\n",
    "temp"
   ]
  },
  {
   "cell_type": "code",
   "execution_count": 37,
   "metadata": {},
   "outputs": [
    {
     "ename": "TypeError",
     "evalue": "estimator should be an estimator implementing 'fit' method, 'model' was passed",
     "output_type": "error",
     "traceback": [
      "\u001b[0;31m---------------------------------------------------------------------------\u001b[0m",
      "\u001b[0;31mTypeError\u001b[0m                                 Traceback (most recent call last)",
      "\u001b[0;32m<ipython-input-37-6ddbb47e3490>\u001b[0m in \u001b[0;36m<module>\u001b[0;34m\u001b[0m\n\u001b[1;32m      1\u001b[0m \u001b[0mmodel\u001b[0m\u001b[0;34m=\u001b[0m\u001b[0mDecisionTreeClassifier\u001b[0m\u001b[0;34m(\u001b[0m\u001b[0;34m)\u001b[0m\u001b[0;34m\u001b[0m\u001b[0;34m\u001b[0m\u001b[0m\n\u001b[1;32m      2\u001b[0m \u001b[0mgrid\u001b[0m\u001b[0;34m=\u001b[0m\u001b[0mGridSearchCV\u001b[0m\u001b[0;34m(\u001b[0m\u001b[0mestimator\u001b[0m\u001b[0;34m=\u001b[0m\u001b[0;34m'model'\u001b[0m\u001b[0;34m,\u001b[0m\u001b[0mparam_grid\u001b[0m\u001b[0;34m=\u001b[0m\u001b[0mtemp\u001b[0m\u001b[0;34m)\u001b[0m\u001b[0;34m\u001b[0m\u001b[0;34m\u001b[0m\u001b[0m\n\u001b[0;32m----> 3\u001b[0;31m \u001b[0mgrid\u001b[0m\u001b[0;34m.\u001b[0m\u001b[0mfit\u001b[0m\u001b[0;34m(\u001b[0m\u001b[0mx\u001b[0m\u001b[0;34m,\u001b[0m\u001b[0my\u001b[0m\u001b[0;34m)\u001b[0m\u001b[0;34m\u001b[0m\u001b[0;34m\u001b[0m\u001b[0m\n\u001b[0m",
      "\u001b[0;32m~/opt/anaconda3/lib/python3.8/site-packages/sklearn/utils/validation.py\u001b[0m in \u001b[0;36minner_f\u001b[0;34m(*args, **kwargs)\u001b[0m\n\u001b[1;32m     70\u001b[0m                           FutureWarning)\n\u001b[1;32m     71\u001b[0m         \u001b[0mkwargs\u001b[0m\u001b[0;34m.\u001b[0m\u001b[0mupdate\u001b[0m\u001b[0;34m(\u001b[0m\u001b[0;34m{\u001b[0m\u001b[0mk\u001b[0m\u001b[0;34m:\u001b[0m \u001b[0marg\u001b[0m \u001b[0;32mfor\u001b[0m \u001b[0mk\u001b[0m\u001b[0;34m,\u001b[0m \u001b[0marg\u001b[0m \u001b[0;32min\u001b[0m \u001b[0mzip\u001b[0m\u001b[0;34m(\u001b[0m\u001b[0msig\u001b[0m\u001b[0;34m.\u001b[0m\u001b[0mparameters\u001b[0m\u001b[0;34m,\u001b[0m \u001b[0margs\u001b[0m\u001b[0;34m)\u001b[0m\u001b[0;34m}\u001b[0m\u001b[0;34m)\u001b[0m\u001b[0;34m\u001b[0m\u001b[0;34m\u001b[0m\u001b[0m\n\u001b[0;32m---> 72\u001b[0;31m         \u001b[0;32mreturn\u001b[0m \u001b[0mf\u001b[0m\u001b[0;34m(\u001b[0m\u001b[0;34m**\u001b[0m\u001b[0mkwargs\u001b[0m\u001b[0;34m)\u001b[0m\u001b[0;34m\u001b[0m\u001b[0;34m\u001b[0m\u001b[0m\n\u001b[0m\u001b[1;32m     73\u001b[0m     \u001b[0;32mreturn\u001b[0m \u001b[0minner_f\u001b[0m\u001b[0;34m\u001b[0m\u001b[0;34m\u001b[0m\u001b[0m\n\u001b[1;32m     74\u001b[0m \u001b[0;34m\u001b[0m\u001b[0m\n",
      "\u001b[0;32m~/opt/anaconda3/lib/python3.8/site-packages/sklearn/model_selection/_search.py\u001b[0m in \u001b[0;36mfit\u001b[0;34m(self, X, y, groups, **fit_params)\u001b[0m\n\u001b[1;32m    652\u001b[0m         \u001b[0mcv\u001b[0m \u001b[0;34m=\u001b[0m \u001b[0mcheck_cv\u001b[0m\u001b[0;34m(\u001b[0m\u001b[0mself\u001b[0m\u001b[0;34m.\u001b[0m\u001b[0mcv\u001b[0m\u001b[0;34m,\u001b[0m \u001b[0my\u001b[0m\u001b[0;34m,\u001b[0m \u001b[0mclassifier\u001b[0m\u001b[0;34m=\u001b[0m\u001b[0mis_classifier\u001b[0m\u001b[0;34m(\u001b[0m\u001b[0mestimator\u001b[0m\u001b[0;34m)\u001b[0m\u001b[0;34m)\u001b[0m\u001b[0;34m\u001b[0m\u001b[0;34m\u001b[0m\u001b[0m\n\u001b[1;32m    653\u001b[0m \u001b[0;34m\u001b[0m\u001b[0m\n\u001b[0;32m--> 654\u001b[0;31m         scorers, self.multimetric_ = _check_multimetric_scoring(\n\u001b[0m\u001b[1;32m    655\u001b[0m             self.estimator, scoring=self.scoring)\n\u001b[1;32m    656\u001b[0m \u001b[0;34m\u001b[0m\u001b[0m\n",
      "\u001b[0;32m~/opt/anaconda3/lib/python3.8/site-packages/sklearn/metrics/_scorer.py\u001b[0m in \u001b[0;36m_check_multimetric_scoring\u001b[0;34m(estimator, scoring)\u001b[0m\n\u001b[1;32m    473\u001b[0m     if callable(scoring) or scoring is None or isinstance(scoring,\n\u001b[1;32m    474\u001b[0m                                                           str):\n\u001b[0;32m--> 475\u001b[0;31m         \u001b[0mscorers\u001b[0m \u001b[0;34m=\u001b[0m \u001b[0;34m{\u001b[0m\u001b[0;34m\"score\"\u001b[0m\u001b[0;34m:\u001b[0m \u001b[0mcheck_scoring\u001b[0m\u001b[0;34m(\u001b[0m\u001b[0mestimator\u001b[0m\u001b[0;34m,\u001b[0m \u001b[0mscoring\u001b[0m\u001b[0;34m=\u001b[0m\u001b[0mscoring\u001b[0m\u001b[0;34m)\u001b[0m\u001b[0;34m}\u001b[0m\u001b[0;34m\u001b[0m\u001b[0;34m\u001b[0m\u001b[0m\n\u001b[0m\u001b[1;32m    476\u001b[0m         \u001b[0;32mreturn\u001b[0m \u001b[0mscorers\u001b[0m\u001b[0;34m,\u001b[0m \u001b[0;32mFalse\u001b[0m\u001b[0;34m\u001b[0m\u001b[0;34m\u001b[0m\u001b[0m\n\u001b[1;32m    477\u001b[0m     \u001b[0;32melse\u001b[0m\u001b[0;34m:\u001b[0m\u001b[0;34m\u001b[0m\u001b[0;34m\u001b[0m\u001b[0m\n",
      "\u001b[0;32m~/opt/anaconda3/lib/python3.8/site-packages/sklearn/utils/validation.py\u001b[0m in \u001b[0;36minner_f\u001b[0;34m(*args, **kwargs)\u001b[0m\n\u001b[1;32m     70\u001b[0m                           FutureWarning)\n\u001b[1;32m     71\u001b[0m         \u001b[0mkwargs\u001b[0m\u001b[0;34m.\u001b[0m\u001b[0mupdate\u001b[0m\u001b[0;34m(\u001b[0m\u001b[0;34m{\u001b[0m\u001b[0mk\u001b[0m\u001b[0;34m:\u001b[0m \u001b[0marg\u001b[0m \u001b[0;32mfor\u001b[0m \u001b[0mk\u001b[0m\u001b[0;34m,\u001b[0m \u001b[0marg\u001b[0m \u001b[0;32min\u001b[0m \u001b[0mzip\u001b[0m\u001b[0;34m(\u001b[0m\u001b[0msig\u001b[0m\u001b[0;34m.\u001b[0m\u001b[0mparameters\u001b[0m\u001b[0;34m,\u001b[0m \u001b[0margs\u001b[0m\u001b[0;34m)\u001b[0m\u001b[0;34m}\u001b[0m\u001b[0;34m)\u001b[0m\u001b[0;34m\u001b[0m\u001b[0;34m\u001b[0m\u001b[0m\n\u001b[0;32m---> 72\u001b[0;31m         \u001b[0;32mreturn\u001b[0m \u001b[0mf\u001b[0m\u001b[0;34m(\u001b[0m\u001b[0;34m**\u001b[0m\u001b[0mkwargs\u001b[0m\u001b[0;34m)\u001b[0m\u001b[0;34m\u001b[0m\u001b[0;34m\u001b[0m\u001b[0m\n\u001b[0m\u001b[1;32m     73\u001b[0m     \u001b[0;32mreturn\u001b[0m \u001b[0minner_f\u001b[0m\u001b[0;34m\u001b[0m\u001b[0;34m\u001b[0m\u001b[0m\n\u001b[1;32m     74\u001b[0m \u001b[0;34m\u001b[0m\u001b[0m\n",
      "\u001b[0;32m~/opt/anaconda3/lib/python3.8/site-packages/sklearn/metrics/_scorer.py\u001b[0m in \u001b[0;36mcheck_scoring\u001b[0;34m(estimator, scoring, allow_none)\u001b[0m\n\u001b[1;32m    400\u001b[0m     \"\"\"\n\u001b[1;32m    401\u001b[0m     \u001b[0;32mif\u001b[0m \u001b[0;32mnot\u001b[0m \u001b[0mhasattr\u001b[0m\u001b[0;34m(\u001b[0m\u001b[0mestimator\u001b[0m\u001b[0;34m,\u001b[0m \u001b[0;34m'fit'\u001b[0m\u001b[0;34m)\u001b[0m\u001b[0;34m:\u001b[0m\u001b[0;34m\u001b[0m\u001b[0;34m\u001b[0m\u001b[0m\n\u001b[0;32m--> 402\u001b[0;31m         raise TypeError(\"estimator should be an estimator implementing \"\n\u001b[0m\u001b[1;32m    403\u001b[0m                         \"'fit' method, %r was passed\" % estimator)\n\u001b[1;32m    404\u001b[0m     \u001b[0;32mif\u001b[0m \u001b[0misinstance\u001b[0m\u001b[0;34m(\u001b[0m\u001b[0mscoring\u001b[0m\u001b[0;34m,\u001b[0m \u001b[0mstr\u001b[0m\u001b[0;34m)\u001b[0m\u001b[0;34m:\u001b[0m\u001b[0;34m\u001b[0m\u001b[0;34m\u001b[0m\u001b[0m\n",
      "\u001b[0;31mTypeError\u001b[0m: estimator should be an estimator implementing 'fit' method, 'model' was passed"
     ]
    }
   ],
   "source": [
    "model=DecisionTreeClassifier()\n",
    "grid=GridSearchCV(estimator='model',param_grid=temp)\n",
    "grid.fit(x,y)"
   ]
  },
  {
   "cell_type": "code",
   "execution_count": 36,
   "metadata": {},
   "outputs": [
    {
     "ename": "AttributeError",
     "evalue": "'GridSearchCV' object has no attribute 'best_params_'",
     "output_type": "error",
     "traceback": [
      "\u001b[0;31m---------------------------------------------------------------------------\u001b[0m",
      "\u001b[0;31mAttributeError\u001b[0m                            Traceback (most recent call last)",
      "\u001b[0;32m<ipython-input-36-28c2e4d7952c>\u001b[0m in \u001b[0;36m<module>\u001b[0;34m\u001b[0m\n\u001b[0;32m----> 1\u001b[0;31m \u001b[0mgrid\u001b[0m\u001b[0;34m.\u001b[0m\u001b[0mbest_params_\u001b[0m\u001b[0;34m\u001b[0m\u001b[0;34m\u001b[0m\u001b[0m\n\u001b[0m",
      "\u001b[0;31mAttributeError\u001b[0m: 'GridSearchCV' object has no attribute 'best_params_'"
     ]
    }
   ],
   "source": [
    "grid.best_params_"
   ]
  },
  {
   "cell_type": "code",
   "execution_count": null,
   "metadata": {},
   "outputs": [],
   "source": []
  },
  {
   "cell_type": "code",
   "execution_count": null,
   "metadata": {},
   "outputs": [],
   "source": []
  }
 ],
 "metadata": {
  "kernelspec": {
   "display_name": "Python 3",
   "language": "python",
   "name": "python3"
  },
  "language_info": {
   "codemirror_mode": {
    "name": "ipython",
    "version": 3
   },
   "file_extension": ".py",
   "mimetype": "text/x-python",
   "name": "python",
   "nbconvert_exporter": "python",
   "pygments_lexer": "ipython3",
   "version": "3.8.5"
  }
 },
 "nbformat": 4,
 "nbformat_minor": 2
}
